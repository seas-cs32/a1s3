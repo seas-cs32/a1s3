{
  "cells": [
    {
      "cell_type": "markdown",
      "metadata": {
        "id": "8wMGd_g2o92w"
      },
      "source": [
        "# Part 2: Hide Wenda\n",
        "Interactive Python notebook for CS32 pset3, part 2.\n",
        "\n",
        "As we discussed in class, when we digitize the real world, we may capture it in\n",
        "more precision than our application requires.  In this part of the assignment,\n",
        "you'll get a feel for this extra precision in digital images and take advantage\n",
        "of the space it provides to hide information in a picture."
      ]
    },
    {
      "cell_type": "code",
      "execution_count": null,
      "metadata": {
        "id": "vHWO7no6MwUY"
      },
      "outputs": [],
      "source": [
        "from PIL import Image"
      ]
    },
    {
      "cell_type": "markdown",
      "metadata": {},
      "source": [
        "**Step 1. Recall our work from class**\n",
        "\n",
        "We got a feel for the extra precision in a digital image using the following two\n",
        "routines in class."
      ]
    },
    {
      "cell_type": "code",
      "execution_count": null,
      "metadata": {},
      "outputs": [],
      "source": [
        "def zero_lowest_bits(v):\n",
        "    '''Zero lowest 4 bits of an 8-bit input'''\n",
        "    return (v & 0b11110000)\n",
        "\n",
        "def zero_image_lowest_bits(src, dest):\n",
        "    '''Zeroing lowest 4 bits in all channels of input image'''\n",
        "    for x in range(src.size[0]):\n",
        "        for y in range(src.size[1]):\n",
        "            r, g, b = src.getpixel((x,y))\n",
        "            new_r = zero_lowest_bits(r)\n",
        "            new_g = zero_lowest_bits(g)\n",
        "            new_b = zero_lowest_bits(b)\n",
        "            dest.putpixel((x,y), (new_r, new_g, new_b))"
      ]
    },
    {
      "cell_type": "markdown",
      "metadata": {},
      "source": [
        "We include the comparison we made between the original Harvard Yard image and\n",
        "the one after zeroing out the lowests bits of each pixel in the image, which\n",
        "will hopefully remind you of how we used the two functions."
      ]
    },
    {
      "cell_type": "code",
      "execution_count": null,
      "metadata": {
        "colab": {
          "base_uri": "https://localhost:8080/",
          "height": 526
        },
        "id": "-qh7ryxupD7e",
        "outputId": "3e6f9aa0-3de6-4a42-9028-73abb282a9b9"
      },
      "outputs": [],
      "source": [
        "# Open the original image\n",
        "yard = Image.open(\"images/harvard.png\")\n",
        "yard"
      ]
    },
    {
      "cell_type": "code",
      "execution_count": null,
      "metadata": {},
      "outputs": [],
      "source": [
        "# Create a temp frame for the new Yard image\n",
        "yardless = Image.new(yard.mode, yard.size)\n",
        "\n",
        "zero_image_lowest_bits(yard, yardless)\n",
        "yardless"
      ]
    },
    {
      "cell_type": "markdown",
      "metadata": {},
      "source": [
        "**Step 2. Hide Wenda**\n",
        "\n",
        "Now that we know this intriguing fact about our digital images, we are going to\n",
        "delete this unnecessary precision and hide other information in our pictures. In\n",
        "fact, we will eventually make a game out of it.\n",
        "\n",
        "If you played [*Where's Waldo?* (or *Where's Wally?* in\n",
        "England)](https://en.wikipedia.org/wiki/Where%27s_Wally%3F) as a child (like I\n",
        "did), you might remember that the challenge was to find the particular character\n",
        "called Waldo in a sea of characters and activity that often looked a lot like\n",
        "this Waldo fella.  We've already met Waldo in the photobombing portion of this\n",
        "pset.  It's now time to meet Wenda (a friend of Waldo), whose image we will try\n",
        "hiding in another image.  In the last part of this pset, you'll write a script\n",
        "that attempts to find and reveal a hidden Wenda *before* it reveals Odlaw\n",
        "(Wally's nemesis).\n",
        "\n",
        "Let's meet these characters..."
      ]
    },
    {
      "cell_type": "code",
      "execution_count": null,
      "metadata": {
        "colab": {
          "base_uri": "https://localhost:8080/",
          "height": 184
        },
        "id": "X7ZTH7W6coZS",
        "outputId": "3744df29-7ad2-4c7a-c283-ff69a948560b"
      },
      "outputs": [],
      "source": [
        "waldo = Image.open(\"images/waldo.png\")\n",
        "waldo"
      ]
    },
    {
      "cell_type": "code",
      "execution_count": null,
      "metadata": {},
      "outputs": [],
      "source": [
        "wenda = Image.open(\"images/wenda.png\")\n",
        "wenda"
      ]
    },
    {
      "cell_type": "code",
      "execution_count": null,
      "metadata": {},
      "outputs": [],
      "source": [
        "odlaw = Image.open(\"images/odlaw.png\")\n",
        "odlaw"
      ]
    },
    {
      "cell_type": "markdown",
      "metadata": {
        "id": "PzSi6D_Qqwio"
      },
      "source": [
        "What is the first thing we'd want to check if we were to hide the image of Wenda\n",
        "in our image of Harvard Yard?\n",
        "\n",
        "Well, let's think of our image of Harvard Yard as our *envelope image* and the\n",
        "image of Wenda as our *hidden image* contained within the envelope.  The\n",
        "condition we'd want to check is that the envelope image was at least as large as\n",
        "our hidden image.  If it's not, we wouldn't be able to fit our hidden image in\n",
        "our envelope.\n",
        "\n",
        "The next bit of code does that important check."
      ]
    },
    {
      "cell_type": "code",
      "execution_count": null,
      "metadata": {
        "colab": {
          "base_uri": "https://localhost:8080/",
          "height": 468
        },
        "id": "RLo_c6iQpQp6",
        "outputId": "b28a942e-f05c-4b8f-e08f-bfe8c63e2e9c"
      },
      "outputs": [],
      "source": [
        "def check_dims(envelope, hidden):\n",
        "    '''Check the dimensions of a hidden image against an envelope image'''\n",
        "    if hidden.size[0] > envelope.size[0] or hidden.size[1] > envelope.size[1]:\n",
        "        raise ValueError(\"Hidden image doesn't fit in the envelope image\")\n",
        "\n",
        "check_dims(yard, wenda)"
      ]
    },
    {
      "cell_type": "markdown",
      "metadata": {},
      "source": [
        "By the way, it assumes that we align the upper lefthand corners of the two\n",
        "images as we hide one inside the other.  If we were to place the hidden image in\n",
        "some random place in the envelope image, we'd want a more sophisticated check\n",
        "than `check_dims`.  We won't ask you to write this more sophisticated check, but\n",
        "we use it when we hide Wenda and Odlaw in the challenge images you'll use in\n",
        "part 3."
      ]
    },
    {
      "cell_type": "markdown",
      "metadata": {
        "id": "id41Hn_TrKUD"
      },
      "source": [
        "If you didn't get a `ValueError` when you ran `check_dims`, we are almost all\n",
        "set to hide Wenda in the Yard.  But first, we have one other check we should\n",
        "make.  We know that we don't need all the detail in the original Yard image, but\n",
        "what about the images of Waldo, Wenda, and Odlaw?  Can we get away with just the\n",
        "four most significant bits of color in these images?\n",
        "\n",
        "Well, you decide.  **Create a code block after this text block**, and in that\n",
        "code block, write the Python code that zeros the lowest 4 bits of our Wenda\n",
        "image and then displays the result.  Remember not to overwrite the original\n",
        "Wenda image!"
      ]
    },
    {
      "cell_type": "markdown",
      "metadata": {
        "id": "f3m5ys6ssg0q"
      },
      "source": [
        "Wenda should look just fine without the lowest four bits of her image.\n",
        "\n",
        "Ok, let's merge the image we want hidden (`wenda`) into our envelope image\n",
        "(`yard`).  For now, we'll just stick the hidden image in the upper left corner\n",
        "of the envelope image.  We've helped you get started with this task by defining\n",
        "two functions in the code block below.\n",
        "\n",
        "The `blend` function does the work of pulling the two images together, and the\n",
        "`bitmerge` helper function does the merge work for a single color in a single\n",
        "pixel.  These two functions are currently incomplete, and it's your job to make\n",
        "these two function work as advertised.  Read through this skeleton code, and\n",
        "then continue with the text and code blocks that follow."
      ]
    },
    {
      "cell_type": "code",
      "execution_count": null,
      "metadata": {
        "colab": {
          "base_uri": "https://localhost:8080/",
          "height": 468
        },
        "id": "5LqtvfDWsYIt",
        "outputId": "0fcdd0c7-b61a-45d7-dd98-61c618f65d0c"
      },
      "outputs": [],
      "source": [
        "def bitmerge(v1, v2):\n",
        "    '''Merge upper 4 bits of two 8-bit values\n",
        "\n",
        "       e.g., bitmerge(32, 255) should produce 47 or 0b00101111\n",
        "    '''\n",
        "\n",
        "    # REPLACE THIS PSEUDO CODE WITH YOUR REAL CODE\n",
        "    # Extract 4 most significant bits of each v1, v2\n",
        "    # Place v1's extracted bits in the 4 most significant bits of v3\n",
        "    # Place v2's extracted bits in the 4 least significant bits of v3\n",
        "    v3 = v1    # DELETE ME; JUST ALLOWS INCOMPLETE CODE TO RUN\n",
        "\n",
        "    return v3\n",
        "\n",
        "def blend(envelope, hidden):\n",
        "    '''Blend a hidden image into the upper left corner of an envelope image\n",
        "    \n",
        "       Neither input image is changed.  A blended image is returned.\n",
        "    '''\n",
        "    check_dims(envelope, hidden)\n",
        "\n",
        "    # Create an image frame and initialize it with the envelope\n",
        "    blended = envelope.copy()\n",
        "\n",
        "    # REPLACE THIS COMMENT WITH YOUR REAL CODE\n",
        "\n",
        "    return blended"
      ]
    },
    {
      "cell_type": "markdown",
      "metadata": {},
      "source": [
        "Let's begin with the bitwise work that `bitmerge` needs to do.  In class, you\n",
        "learned about bitwise-and (`&`).  There's also a bitwise-or (`|`) operator and a\n",
        "pair of shifting operations (`<<` and `>>`).  You'll need some subset of these\n",
        "operators to complete this function.  Look up how these operators work and then\n",
        "replace the pseudo code we've given you with Python code.\n",
        "\n",
        "The next three code blocks are meant to test your `bitmerge` function.  Feel\n",
        "free to create more tests if you need them."
      ]
    },
    {
      "cell_type": "code",
      "execution_count": null,
      "metadata": {},
      "outputs": [],
      "source": [
        "# bitmerge(32, 255) should produce 47 or 0b00101111\n",
        "n = bitmerge(32, 255)\n",
        "n, bin(n)"
      ]
    },
    {
      "cell_type": "code",
      "execution_count": null,
      "metadata": {},
      "outputs": [],
      "source": [
        "# bitmerge(0b10101010, 0b01010101) should produce 0b10100101\n",
        "n = bitmerge(0b10101010, 0b01010101)\n",
        "n, bin(n)"
      ]
    },
    {
      "cell_type": "code",
      "execution_count": null,
      "metadata": {},
      "outputs": [],
      "source": [
        "# bitmerge(0x0f, 0xf0) should produce 0x0f\n",
        "n = bitmerge(0x0f, 0xf0)\n",
        "n, bin(n)"
      ]
    },
    {
      "cell_type": "markdown",
      "metadata": {
        "id": "_wZ4w6Yhslsu"
      },
      "source": [
        "Unit testing is very helpful, and notebooks like this one make testing easy.\n",
        "This little bit of extra work will save you lots of headaches in the long run.\n",
        "\n",
        "Enough preaching from experience, let's get to work on our `blend` function.\n",
        "It's missing some important code between our initialization of the blended\n",
        "picture with a copy of the envelope image and when we return a completely\n",
        "blended image (i.e., one that contains the hidden image).  **Please create the\n",
        "code that will hide the most significant four bits of Wenda in the least\n",
        "significant four bits of the upper left corner of the Yard.**\n",
        "\n",
        "**A few hints that might help you as your think through the pseudocode.**\n",
        "\n",
        "1. At what `(x,y)` coordinates in the envelope image does the upper lefthand\n",
        "   corner of the hidden image begin?  What are the `(x,y)` coordinates of\n",
        "   the upper lefthand corner of the hidden image?  Do you need to keep track\n",
        "   of two different coordinates as you do the work in `blend`?\n",
        "2. While you could write a nested pair of loops to touch every pixel in the\n",
        "   envelope image, as we did in `zero_image_lowest_bits`, this involves a lot\n",
        "   of wasted work as the envelope image pixels not covered by the hidden image\n",
        "   are unaffected by the blending.  Knowing this, what values do you want to\n",
        "   put in the `range` functions of each `for` loop?\n",
        "\n",
        "When you've completed your `blend` routine, test it using the next code block."
      ]
    },
    {
      "cell_type": "code",
      "execution_count": null,
      "metadata": {},
      "outputs": [],
      "source": [
        "yard2 = blend(yard, waldo)\n",
        "yard2"
      ]
    },
    {
      "cell_type": "markdown",
      "metadata": {
        "id": "K9ibKqLryxnT"
      },
      "source": [
        "If your code works correctly, you should see a faint image of Wenda's\n",
        "red-and-white striped shirt in the tree in the upper left corner of the\n",
        "resulting Yard image.  (You won't see it if you simply run our incomplete code.)\n",
        "\n",
        "Overall, not too bad, right?  You can still sorta see Wenda, but debugging would\n",
        "be hard if we couldn't see her at all.  Plus, we *could* find an image that\n",
        "would hide this striped shirt better, but we'll save that for the game that's\n",
        "coming.\n",
        "\n",
        "What you've just coded is called *image steganography*.  There are lots of\n",
        "different steganography techniques, which you might want to read about in your\n",
        "free time."
      ]
    },
    {
      "cell_type": "markdown",
      "metadata": {
        "id": "XTQOkhqT0WDR"
      },
      "source": [
        "**Step 3. Reveal a hidden Wenda**\n",
        "\n",
        "Now let's undo what we just did and reveal where we have hidden Wenda.  Again,\n",
        "we've provided some skeleton code that you need to complete.  Add a line of code\n",
        "performing some bitwise calculations in `bitextract` and the code that walks\n",
        "over the input image extracting the hidden image in `deblend`.\n",
        "\n",
        "Hint: When we blended the images, our nested loops walked over only a small\n",
        "portion of the envelope image.  When we deblend, we need to search the entire\n",
        "envelope image for hidden messages."
      ]
    },
    {
      "cell_type": "code",
      "execution_count": null,
      "metadata": {
        "id": "_-DumlJNxaA8"
      },
      "outputs": [],
      "source": [
        "def bitextract(v1):\n",
        "    '''Extract the hidden color\n",
        "\n",
        "       e.g., bitextract(47) should produce 240 or 0b11110000\n",
        "    '''\n",
        "\n",
        "    # REPLACE THIS PSEUDO CODE WITH YOUR REAL CODE\n",
        "    # Grab the 4 least significant bits of v1\n",
        "    # Place those 4 bits in the 4 most significant bits of an 8-bit v2\n",
        "    v2 = v1    # DELETE ME; JUST ALLOWS INCOMPLETE CODE TO RUN\n",
        "\n",
        "    return v2\n",
        "\n",
        "\n",
        "def deblend(image):\n",
        "    '''Pulls out an image hidden in the input image\n",
        "    \n",
        "       The input image is left unchanged.\n",
        "    '''\n",
        "    # Make a blank new image for output\n",
        "    deblended = Image.new(image.mode, image.size)\n",
        "\n",
        "    # REPLACE THIS COMMENT WITH YOUR REAL CODE\n",
        "\n",
        "    return deblended"
      ]
    },
    {
      "cell_type": "markdown",
      "metadata": {
        "id": "VOnNvnhS2G0B"
      },
      "source": [
        "Let's **run it** on our previously blended image!  You can use your previous\n",
        "work, or if you had trouble getting the previous steps to work correctly, you\n",
        "can simply load our pre-made Harvard-Yard-with-hidden-Waldo that's stored in\n",
        "`images/harvard2.png`.  (Yes, we hid Waldo and not Wenda, but this shouldn't\n",
        "matter except to prove to us that you can hide an image in another.)\n",
        "\n",
        "Note: If you run our skeleton code, you'll see nothing but a black image.  To\n",
        "start honing your debugging skills, can you explain why that is true?"
      ]
    },
    {
      "cell_type": "code",
      "execution_count": null,
      "metadata": {
        "id": "oz6wgDzNoSB6"
      },
      "outputs": [],
      "source": [
        "yard = Image.open('images/harvard.png')\n",
        "wenda = Image.open('images/wenda.png')\n",
        "blended = blend(yard, wenda)\n",
        "# or start with our blended image\n",
        "# blended = Image.open('images/harvard2.png')\n",
        "\n",
        "unhidden = deblend(blended)\n",
        "unhidden"
      ]
    },
    {
      "cell_type": "markdown",
      "metadata": {},
      "source": [
        "When you get `bitextract` and `deblend` to work, you'll see Wenda in the upper\n",
        "left corner of the resulting image, and she'll be surrounded by a very noisy\n",
        "image of Harvard Yard.  That's what we get when we promote the lowest 4 bits of\n",
        "the original envelope image into the most significant 4 bits of each 8-bit color\n",
        "channel.  (Or if you prefer to believe that [there's something more at\n",
        "work](https://www.bbc.com/culture/article/20141003-the-hidden-messages-in-songs).)"
      ]
    }
  ],
  "metadata": {
    "colab": {
      "collapsed_sections": [],
      "name": "pset3-part2.ipynb",
      "provenance": []
    },
    "interpreter": {
      "hash": "aee8b7b246df8f9039afb4144a1f6fd8d2ca17a180786b69acc140d282b71a49"
    },
    "kernelspec": {
      "display_name": "Python 3.9.7 64-bit",
      "name": "python3"
    },
    "language_info": {
      "codemirror_mode": {
        "name": "ipython",
        "version": 3
      },
      "file_extension": ".py",
      "mimetype": "text/x-python",
      "name": "python",
      "nbconvert_exporter": "python",
      "pygments_lexer": "ipython3",
      "version": "3.9.7"
    }
  },
  "nbformat": 4,
  "nbformat_minor": 2
}
